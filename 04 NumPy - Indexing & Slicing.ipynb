{
 "cells": [
  {
   "cell_type": "markdown",
   "metadata": {},
   "source": [
    "# NumPy - Indexing & Slicing\n",
    "\n",
    "The items of an array can be accessed and assigned to the same way as other Python sequences (e.g. lists).\n",
    "Items in ndarray object follows zero-based index.\n",
    "\n",
    "## Indexing\n",
    "Three types of indexing methods are available −\n",
    "1. Field access\n",
    "2. Basic slicing\n",
    "3. Advanced indexing."
   ]
  },
  {
   "cell_type": "markdown",
   "metadata": {},
   "source": [
    "## 1. Field access\n",
    "### Example 1: Accessing an Element"
   ]
  },
  {
   "cell_type": "code",
   "execution_count": 1,
   "metadata": {},
   "outputs": [
    {
     "name": "stdout",
     "output_type": "stream",
     "text": [
      "NumPy array is  [0 1 2 3 4 5 6 7 8 9]\n",
      "Element at mentioned index is 5\n"
     ]
    }
   ],
   "source": [
    "import numpy as np \n",
    "a = np.arange(10)\n",
    "\n",
    "print(\"NumPy array is \",a)\n",
    "print(\"Element at mentioned index is\",a[5]) "
   ]
  },
  {
   "cell_type": "markdown",
   "metadata": {},
   "source": [
    "### Example 2: Using start, end (exclusive), step"
   ]
  },
  {
   "cell_type": "code",
   "execution_count": 2,
   "metadata": {},
   "outputs": [
    {
     "name": "stdout",
     "output_type": "stream",
     "text": [
      "NumPy array is  [10 12 14 16 18 20 22 24 26 28]\n",
      "Element at mentioned index is 20\n"
     ]
    }
   ],
   "source": [
    "import numpy as np \n",
    "b = np.arange(10, 30, 2) \n",
    "\n",
    "print(\"NumPy array is \",b)\n",
    "print(\"Element at mentioned index is\",b[5]) "
   ]
  },
  {
   "cell_type": "markdown",
   "metadata": {},
   "source": [
    "### Example 3: For multidimensional arrays, indexes are tuples of integers"
   ]
  },
  {
   "cell_type": "code",
   "execution_count": 3,
   "metadata": {},
   "outputs": [
    {
     "name": "stdout",
     "output_type": "stream",
     "text": [
      "[[1 2 3]\n",
      " [4 5 6]]\n",
      "3\n",
      "5\n"
     ]
    }
   ],
   "source": [
    "import numpy as np \n",
    "c = np.array([[1,2,3], [4,5,6]])\n",
    "\n",
    "#print the array\n",
    "print(c)\n",
    "\n",
    "# Note: first array/column starts at 0.\n",
    "# Accessing elements using row , column index \n",
    "print(c[0, 2])\n",
    "print(c[1, 1])"
   ]
  },
  {
   "cell_type": "markdown",
   "metadata": {},
   "source": [
    "### Example 4: Assigning or Updating the value"
   ]
  },
  {
   "cell_type": "code",
   "execution_count": 4,
   "metadata": {},
   "outputs": [
    {
     "name": "stdout",
     "output_type": "stream",
     "text": [
      "[[ 1  2  3]\n",
      " [ 4 10  6]]\n"
     ]
    }
   ],
   "source": [
    "c[1, 1] = 10\n",
    "print(c)"
   ]
  },
  {
   "cell_type": "markdown",
   "metadata": {},
   "source": [
    "## 2. Basic Slicing\n",
    "\n",
    "* Basic slicing is an extension of Python's basic concept of slicing to n dimensions.\n",
    "* A Python slice object is constructed by giving start, stop, and step parameters to the built-in slice function. This slice object is passed to the array to extract a part of array.\n",
    "\n",
    "### Creating NumPy Arrays"
   ]
  },
  {
   "cell_type": "code",
   "execution_count": 5,
   "metadata": {},
   "outputs": [
    {
     "name": "stdout",
     "output_type": "stream",
     "text": [
      "[0 1 2 3 4 5 6 7 8 9]\n"
     ]
    }
   ],
   "source": [
    "import numpy as np \n",
    "a = np.arange(10)\n",
    "print(a)"
   ]
  },
  {
   "cell_type": "markdown",
   "metadata": {},
   "source": [
    "### Example 1: Using Startindex: Endindex(exclusive)"
   ]
  },
  {
   "cell_type": "code",
   "execution_count": 6,
   "metadata": {},
   "outputs": [
    {
     "name": "stdout",
     "output_type": "stream",
     "text": [
      "[1 2 3 4]\n"
     ]
    }
   ],
   "source": [
    "# Slicing the elements from index 1 to 5 \n",
    "print(a[1:5])"
   ]
  },
  {
   "cell_type": "markdown",
   "metadata": {},
   "source": [
    "### Example 2: Using Startindex: Endindex(exclusive) : Step"
   ]
  },
  {
   "cell_type": "code",
   "execution_count": 7,
   "metadata": {},
   "outputs": [
    {
     "name": "stdout",
     "output_type": "stream",
     "text": [
      "[1 3 5 7]\n"
     ]
    }
   ],
   "source": [
    "# Slicing the elements using Step\n",
    "print(a[1:9:2])"
   ]
  },
  {
   "cell_type": "markdown",
   "metadata": {},
   "source": [
    "### Example 3: Alternative Ways of slicing with default values"
   ]
  },
  {
   "cell_type": "code",
   "execution_count": 8,
   "metadata": {},
   "outputs": [
    {
     "name": "stdout",
     "output_type": "stream",
     "text": [
      "[1 2 3 4 5 6 7 8 9]\n",
      "[0 1 2 3 4 5 6 7 8]\n"
     ]
    }
   ],
   "source": [
    "#End index is not mentioned\n",
    "print(a[1:])\n",
    "\n",
    "#Start index is not mentioned \n",
    "print(a[:9])"
   ]
  },
  {
   "cell_type": "markdown",
   "metadata": {},
   "source": [
    "### Example 4: Assigning and slicing the elements"
   ]
  },
  {
   "cell_type": "code",
   "execution_count": 9,
   "metadata": {},
   "outputs": [
    {
     "name": "stdout",
     "output_type": "stream",
     "text": [
      "[0 1 2 3 4 5 6 7 8 9]\n",
      "[ 0  1  2  3  4 20 20 20 20 20]\n",
      "[ 3  4 20 20]\n"
     ]
    }
   ],
   "source": [
    "#Array creation\n",
    "import numpy as np \n",
    "b = np.arange(10)\n",
    "print(b)\n",
    "\n",
    "# Assigning the value\n",
    "b[5:] = 20\n",
    "print(b)\n",
    "\n",
    "#Slicing \n",
    "print(b[3:7])"
   ]
  },
  {
   "cell_type": "markdown",
   "metadata": {},
   "source": [
    "### Using Ellipsis (…)\n",
    "\n",
    "Slicing can also include ellipsis (…) to make a selection tuple of the same length as the dimension of an array. If ellipsis is used at the row position, it will return an ndarray comprising of items in rows.\n",
    "\n",
    "### Example 5: Using Ellipsis"
   ]
  },
  {
   "cell_type": "code",
   "execution_count": 10,
   "metadata": {
    "scrolled": true
   },
   "outputs": [
    {
     "name": "stdout",
     "output_type": "stream",
     "text": [
      "[[1 2 3]\n",
      " [3 4 5]\n",
      " [4 5 6]]\n",
      "[3 4 5]\n",
      "[2 4 5]\n"
     ]
    }
   ],
   "source": [
    "import numpy as np \n",
    "a = np.array([[1,2,3],[3,4,5],[4,5,6]]) \n",
    "print(a)  \n",
    "\n",
    "# Slice all items from the second row\n",
    "print(a[1,...])\n",
    "\n",
    "# Slice all items from second column \n",
    "print(a[...,1])"
   ]
  }
 ],
 "metadata": {
  "kernelspec": {
   "display_name": "Python 3",
   "language": "python",
   "name": "python3"
  },
  "language_info": {
   "codemirror_mode": {
    "name": "ipython",
    "version": 3
   },
   "file_extension": ".py",
   "mimetype": "text/x-python",
   "name": "python",
   "nbconvert_exporter": "python",
   "pygments_lexer": "ipython3",
   "version": "3.7.4"
  }
 },
 "nbformat": 4,
 "nbformat_minor": 2
}
