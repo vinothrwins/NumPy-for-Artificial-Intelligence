{
 "cells": [
  {
   "cell_type": "markdown",
   "metadata": {},
   "source": [
    "# NumPy - Statistical Functions"
   ]
  },
  {
   "cell_type": "markdown",
   "metadata": {},
   "source": [
    "## Agenda:\n",
    "1. Mean\n",
    "2. Median\n",
    "3. Standard deviation\n",
    "4. Variance\n",
    "5. Average"
   ]
  },
  {
   "cell_type": "markdown",
   "metadata": {},
   "source": [
    "Reference Link : https://docs.scipy.org/doc/numpy-1.13.0/reference/routines.math.html    "
   ]
  },
  {
   "cell_type": "markdown",
   "metadata": {},
   "source": [
    "## Statistics Function"
   ]
  },
  {
   "cell_type": "code",
   "execution_count": 1,
   "metadata": {},
   "outputs": [],
   "source": [
    "import numpy as np"
   ]
  },
  {
   "cell_type": "markdown",
   "metadata": {},
   "source": [
    "### 1. mean\n",
    "Arithmetic mean is the sum of elements along an axis divided by the number of elements. The numpy.mean() function returns the arithmetic mean of elements in the array. If the axis is mentioned, it is calculated along it."
   ]
  },
  {
   "cell_type": "code",
   "execution_count": 2,
   "metadata": {
    "scrolled": true
   },
   "outputs": [
    {
     "name": "stdout",
     "output_type": "stream",
     "text": [
      "Input Array is \n",
      " [[14  2 11]\n",
      " [ 8  5  8]\n",
      " [15  5  5]]\n",
      "Mean of the Array is  8.11111111111111\n"
     ]
    }
   ],
   "source": [
    "a =  np.random.randint(16, size=(3, 3))\n",
    "print(\"Input Array is \\n\", a)\n",
    "\n",
    "print(\"Mean of the Array is \", np.mean(a) )"
   ]
  },
  {
   "cell_type": "markdown",
   "metadata": {},
   "source": [
    "### 2. mean(axis)\n",
    "Returns mean of the element of the array in a particular axis."
   ]
  },
  {
   "cell_type": "code",
   "execution_count": 3,
   "metadata": {},
   "outputs": [
    {
     "name": "stdout",
     "output_type": "stream",
     "text": [
      "Input Array is \n",
      " [[11  7  0]\n",
      " [ 4 13  7]\n",
      " [ 1 10  7]]\n",
      "Mean of Array Elements in y axis:  [ 5.33333333 10.          4.66666667]\n",
      "Mean of Array Elements in x axix:  [6. 8. 6.]\n"
     ]
    }
   ],
   "source": [
    "a =  np.random.randint(16, size=(3, 3))\n",
    "print(\"Input Array is \\n\", a)\n",
    "\n",
    "# axis = 0 means its y axis\n",
    "print(\"Mean of Array Elements in y axis: \", np.mean(a, axis = 0)) \n",
    "\n",
    "#axis = 1 means its x axis\n",
    "print(\"Mean of Array Elements in x axix: \", np.mean(a, axis = 1)) \n"
   ]
  },
  {
   "cell_type": "markdown",
   "metadata": {},
   "source": [
    "### 3. median()\n",
    "Median is defined as the value separating the higher half of a data sample from the lower half."
   ]
  },
  {
   "cell_type": "code",
   "execution_count": 4,
   "metadata": {},
   "outputs": [
    {
     "name": "stdout",
     "output_type": "stream",
     "text": [
      "Input Array is \n",
      " [[ 8 15  2]\n",
      " [ 5  4  8]\n",
      " [ 3 15 15]]\n",
      "Mean of the Array is  8.0\n"
     ]
    }
   ],
   "source": [
    "a =  np.random.randint(16, size=(3, 3))\n",
    "print(\"Input Array is \\n\", a)\n",
    "\n",
    "print(\"Mean of the Array is \", np.median(a))"
   ]
  },
  {
   "cell_type": "markdown",
   "metadata": {},
   "source": [
    "### 4. median(axis)\n",
    "Returns median of the element of the array in a particular axis."
   ]
  },
  {
   "cell_type": "code",
   "execution_count": 5,
   "metadata": {},
   "outputs": [
    {
     "name": "stdout",
     "output_type": "stream",
     "text": [
      "Input Array is \n",
      " [[ 0  2  5]\n",
      " [12  0 12]\n",
      " [ 4 15  0]]\n",
      "Median of Array Elements in y axis:  [4. 2. 5.]\n",
      "Median of Array Elements in x axix:  [ 2. 12.  4.]\n"
     ]
    }
   ],
   "source": [
    "a =  np.random.randint(16, size=(3, 3))\n",
    "print(\"Input Array is \\n\", a)\n",
    "\n",
    "print(\"Median of Array Elements in y axis: \", np.median(a, axis = 0)) \n",
    "\n",
    "#axis = 1 means its x axis\n",
    "print(\"Median of Array Elements in x axix: \", np.median(a, axis = 1)) "
   ]
  },
  {
   "cell_type": "markdown",
   "metadata": {},
   "source": [
    "### 5. Standard Deviation\n",
    "Standard deviation is the square root of the average of squared deviations from mean. \n",
    "\n",
    "std = sqrt(mean(abs(x - x.mean())**2))"
   ]
  },
  {
   "cell_type": "code",
   "execution_count": 6,
   "metadata": {},
   "outputs": [
    {
     "name": "stdout",
     "output_type": "stream",
     "text": [
      "Input Array is \n",
      " [[ 8 13 10]\n",
      " [ 1 10 14]\n",
      " [13  1 10]]\n",
      "Standard Deviation of the Array is  4.581228472908512\n"
     ]
    }
   ],
   "source": [
    "a =  np.random.randint(16, size=(3, 3))\n",
    "print(\"Input Array is \\n\", a)\n",
    "\n",
    "print(\"Standard Deviation of the Array is \", np.std(a))"
   ]
  },
  {
   "cell_type": "markdown",
   "metadata": {},
   "source": [
    "### 6. Variance\n",
    "Variance is the average of squared deviations, i.e., mean(abs(x - x.mean())**2). In other words, the standard deviation is the square root of variance."
   ]
  },
  {
   "cell_type": "code",
   "execution_count": 7,
   "metadata": {},
   "outputs": [
    {
     "name": "stdout",
     "output_type": "stream",
     "text": [
      "Input Array is \n",
      " [[14  1 13]\n",
      " [ 0  9  6]\n",
      " [ 0 10  9]]\n",
      "Variance of the Array is  26.320987654320987\n"
     ]
    }
   ],
   "source": [
    "a =  np.random.randint(16, size=(3, 3))\n",
    "print(\"Input Array is \\n\", a)\n",
    "\n",
    "print(\"Variance of the Array is \", np.var(a))"
   ]
  },
  {
   "cell_type": "markdown",
   "metadata": {},
   "source": [
    "### 7. average()\n",
    "The average() function computes the weighted average of elements in an array according to their respective weight given in another array. The function can have an axis parameter. If the axis is not specified, the array is flattened.\n",
    "\n",
    "Considering an array [5,10,15]  and corresponding weights [1,2,3], the weighted average is calculated by adding the product of the corresponding elements and dividing the sum by the sum of weights.\n",
    "\n",
    "Weighted average = (5*1+10*2+15*3)/(1+2+3) = 70/6 = 11.6666666"
   ]
  },
  {
   "cell_type": "code",
   "execution_count": 8,
   "metadata": {
    "scrolled": true
   },
   "outputs": [
    {
     "name": "stdout",
     "output_type": "stream",
     "text": [
      "Input Array \n",
      " [ 5 10 15]\n",
      "Average of the array  10.0\n"
     ]
    }
   ],
   "source": [
    "a = np.array([5,10,15])\n",
    "\n",
    "print(\"Input Array \\n\", a)\n",
    "\n",
    "#Average - # this is same as mean when weight is not specified \n",
    "print(\"Average of the array \", np.average(a))"
   ]
  },
  {
   "cell_type": "code",
   "execution_count": 9,
   "metadata": {},
   "outputs": [
    {
     "name": "stdout",
     "output_type": "stream",
     "text": [
      "Average of the array by considering the weight  11.666666666666666\n"
     ]
    }
   ],
   "source": [
    "# If the weight is specified \n",
    "wt = np.array([1,2,3]) \n",
    "\n",
    "print(\"Average of the array by considering the weight \", np.average(a,weights=wt))"
   ]
  },
  {
   "cell_type": "code",
   "execution_count": 10,
   "metadata": {},
   "outputs": [
    {
     "name": "stdout",
     "output_type": "stream",
     "text": [
      "(11.666666666666666, 6.0)\n"
     ]
    }
   ],
   "source": [
    "# To display the sum of weights in the result\n",
    "print(np.average(a,weights = wt, returned = True))"
   ]
  }
 ],
 "metadata": {
  "kernelspec": {
   "display_name": "Python 3",
   "language": "python",
   "name": "python3"
  },
  "language_info": {
   "codemirror_mode": {
    "name": "ipython",
    "version": 3
   },
   "file_extension": ".py",
   "mimetype": "text/x-python",
   "name": "python",
   "nbconvert_exporter": "python",
   "pygments_lexer": "ipython3",
   "version": "3.7.4"
  }
 },
 "nbformat": 4,
 "nbformat_minor": 2
}
