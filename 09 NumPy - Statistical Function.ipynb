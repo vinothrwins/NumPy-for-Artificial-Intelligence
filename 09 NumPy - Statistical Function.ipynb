{
 "cells": [
  {
   "cell_type": "markdown",
   "metadata": {},
   "source": [
    "# NumPy - Statistical Functions"
   ]
  },
  {
   "cell_type": "markdown",
   "metadata": {},
   "source": [
    "## Agenda:\n",
    "1. Mode\n",
    "2. Median\n",
    "2. Mean\n",
    "3. Standard deviation\n",
    "4. Variance\n",
    "5. Average"
   ]
  },
  {
   "cell_type": "markdown",
   "metadata": {},
   "source": [
    "Reference Link : https://docs.scipy.org/doc/numpy-1.13.0/reference/routines.math.html    "
   ]
  },
  {
   "cell_type": "markdown",
   "metadata": {},
   "source": [
    "## Statistics Function \n",
    "It describes the distribution using numbers."
   ]
  },
  {
   "cell_type": "markdown",
   "metadata": {},
   "source": [
    "### 1. Measures of centre\n",
    "1. Mode\n",
    "2. Median \n",
    "3. Mean"
   ]
  },
  {
   "attachments": {
    "150px-Visualisation_mode_median_mean.svg.png": {
     "image/png": "[encoded data removed]"
    }
   },
   "cell_type": "markdown",
   "metadata": {},
   "source": [
    "![150px-Visualisation_mode_median_mean.svg.png](attachment:150px-Visualisation_mode_median_mean.svg.png)"
   ]
  },
  {
   "cell_type": "code",
   "execution_count": 1,
   "metadata": {},
   "outputs": [],
   "source": [
    "import numpy as np"
   ]
  },
  {
   "cell_type": "markdown",
   "metadata": {},
   "source": [
    "Height Data set "
   ]
  },
  {
   "cell_type": "code",
   "execution_count": 2,
   "metadata": {},
   "outputs": [
    {
     "name": "stdout",
     "output_type": "stream",
     "text": [
      "[140, 140, 155, 190, 182, 145, 140, 159, 195]\n"
     ]
    }
   ],
   "source": [
    "height = [140,140,155,190,182,145,140,159,195]\n",
    "print(height)"
   ]
  },
  {
   "cell_type": "markdown",
   "metadata": {},
   "source": [
    "### 1 . Mode \n",
    "The data value that is most frequently observed"
   ]
  },
  {
   "cell_type": "markdown",
   "metadata": {},
   "source": [
    "#### Example 1 :"
   ]
  },
  {
   "cell_type": "code",
   "execution_count": 3,
   "metadata": {},
   "outputs": [
    {
     "name": "stdout",
     "output_type": "stream",
     "text": [
      "ModeResult(mode=array([140]), count=array([3]))\n"
     ]
    }
   ],
   "source": [
    "from scipy import stats\n",
    "print(stats.mode(height))"
   ]
  },
  {
   "cell_type": "markdown",
   "metadata": {},
   "source": [
    "### 2. Median (Physical Middle Point)\n",
    "The data value that is positioned in the middle of an ORDERED data set. \n",
    "\n",
    "(or)\n",
    "\n",
    "Median is defined as the value separating the higher half of a data sample from the lower half."
   ]
  },
  {
   "cell_type": "markdown",
   "metadata": {},
   "source": [
    "#### Example : 2"
   ]
  },
  {
   "cell_type": "code",
   "execution_count": 4,
   "metadata": {},
   "outputs": [
    {
     "name": "stdout",
     "output_type": "stream",
     "text": [
      "None\n",
      "[140, 140, 140, 145, 155, 159, 182, 190, 195]\n"
     ]
    }
   ],
   "source": [
    "# Sorting the Number \n",
    "print(height.sort())\n",
    "\n",
    "# Displaying the ordered list\n",
    "print(height)"
   ]
  },
  {
   "cell_type": "code",
   "execution_count": 5,
   "metadata": {},
   "outputs": [
    {
     "name": "stdout",
     "output_type": "stream",
     "text": [
      "155.0\n"
     ]
    }
   ],
   "source": [
    "print(np.median(height))"
   ]
  },
  {
   "cell_type": "markdown",
   "metadata": {},
   "source": [
    "#### Example 3: "
   ]
  },
  {
   "cell_type": "code",
   "execution_count": 6,
   "metadata": {
    "scrolled": true
   },
   "outputs": [
    {
     "name": "stdout",
     "output_type": "stream",
     "text": [
      "None\n",
      "[140, 140, 140, 145, 146, 155, 159, 182, 190, 195]\n",
      "150.5\n"
     ]
    }
   ],
   "source": [
    "height2 = [140,140,155,190,182,145,140,159,195,146]\n",
    "print(height2.sort())\n",
    "print(height2)\n",
    "print(np.median(height2))"
   ]
  },
  {
   "cell_type": "markdown",
   "metadata": {},
   "source": [
    "#### Example 4:"
   ]
  },
  {
   "cell_type": "code",
   "execution_count": 7,
   "metadata": {
    "scrolled": true
   },
   "outputs": [
    {
     "name": "stdout",
     "output_type": "stream",
     "text": [
      "Input Array is \n",
      " [[ 8  6 13]\n",
      " [ 3 10 13]\n",
      " [ 4 10 13]]\n",
      "Mean of the Array is  10.0\n"
     ]
    }
   ],
   "source": [
    "# Multi dimensional data set\n",
    "a =  np.random.randint(16, size=(3, 3))\n",
    "print(\"Input Array is \\n\", a)\n",
    "\n",
    "print(\"Mean of the Array is \", np.median(a))"
   ]
  },
  {
   "cell_type": "markdown",
   "metadata": {},
   "source": [
    "#### Example 5: Returns median of the element of the array in a particular axis."
   ]
  },
  {
   "cell_type": "code",
   "execution_count": 8,
   "metadata": {},
   "outputs": [
    {
     "name": "stdout",
     "output_type": "stream",
     "text": [
      "Input Array is \n",
      " [[14  0  8]\n",
      " [13 10  8]\n",
      " [ 1  0 14]]\n",
      "Median of Array Elements in y axis:  [13.  0.  8.]\n",
      "Median of Array Elements in x axix:  [ 8. 10.  1.]\n"
     ]
    }
   ],
   "source": [
    "a =  np.random.randint(16, size=(3, 3))\n",
    "print(\"Input Array is \\n\", a)\n",
    "\n",
    "print(\"Median of Array Elements in y axis: \", np.median(a, axis = 0)) \n",
    "\n",
    "#axis = 1 means its x axis\n",
    "print(\"Median of Array Elements in x axix: \", np.median(a, axis = 1)) "
   ]
  },
  {
   "cell_type": "markdown",
   "metadata": {},
   "source": [
    "### 3. Mean\n",
    "Arithmetic mean is the sum of elements along an axis divided by the number of elements. The numpy.mean() function returns the arithmetic mean of elements in the array. If the axis is mentioned, it is calculated along it."
   ]
  },
  {
   "cell_type": "markdown",
   "metadata": {},
   "source": [
    "#### Example 6:"
   ]
  },
  {
   "cell_type": "code",
   "execution_count": 9,
   "metadata": {},
   "outputs": [
    {
     "name": "stdout",
     "output_type": "stream",
     "text": [
      "160.66666666666666\n"
     ]
    }
   ],
   "source": [
    "# Balanced height\n",
    "print(np.mean(height))"
   ]
  },
  {
   "cell_type": "markdown",
   "metadata": {},
   "source": [
    "#### Example 7:"
   ]
  },
  {
   "cell_type": "code",
   "execution_count": 10,
   "metadata": {
    "scrolled": false
   },
   "outputs": [
    {
     "name": "stdout",
     "output_type": "stream",
     "text": [
      "Input Array is \n",
      " [[10  9  5]\n",
      " [12  2  8]\n",
      " [ 4 15 10]]\n",
      "Mean of the Array is  8.333333333333334\n"
     ]
    }
   ],
   "source": [
    "a =  np.random.randint(16, size=(3, 3))\n",
    "print(\"Input Array is \\n\", a)\n",
    "\n",
    "print(\"Mean of the Array is \", np.mean(a) )"
   ]
  },
  {
   "cell_type": "markdown",
   "metadata": {},
   "source": [
    "#### Example 8: Returns mean of the element of the array in a particular axis."
   ]
  },
  {
   "cell_type": "code",
   "execution_count": 11,
   "metadata": {},
   "outputs": [
    {
     "name": "stdout",
     "output_type": "stream",
     "text": [
      "Input Array is \n",
      " [[ 3  7 13]\n",
      " [ 1 14 13]\n",
      " [ 8  1  1]]\n",
      "Mean of Array Elements in y axis:  [4.         7.33333333 9.        ]\n",
      "Mean of Array Elements in x axix:  [7.66666667 9.33333333 3.33333333]\n"
     ]
    }
   ],
   "source": [
    "a =  np.random.randint(16, size=(3, 3))\n",
    "print(\"Input Array is \\n\", a)\n",
    "\n",
    "# axis = 0 means its y axis\n",
    "print(\"Mean of Array Elements in y axis: \", np.mean(a, axis = 0)) \n",
    "\n",
    "#axis = 1 means its x axis\n",
    "print(\"Mean of Array Elements in x axix: \", np.mean(a, axis = 1)) \n"
   ]
  },
  {
   "cell_type": "markdown",
   "metadata": {},
   "source": [
    "### 2. The measures of spread\n",
    "1. Standard Deviation\n",
    "2. Variance"
   ]
  },
  {
   "attachments": {
    "normal-distribution-1.gif": {
     "image/gif": "[encoded data removed]"
    }
   },
   "cell_type": "markdown",
   "metadata": {},
   "source": [
    "![normal-distribution-1.gif](attachment:normal-distribution-1.gif)"
   ]
  },
  {
   "cell_type": "markdown",
   "metadata": {},
   "source": [
    "### 5. Standard Deviation\n",
    "It represents how close the values in a data set to the mean\n",
    "\n",
    "Standard deviation is the square root of the average of squared deviations from mean. \n",
    "\n",
    "std = sqrt(mean(abs(x - x.mean())**2))"
   ]
  },
  {
   "cell_type": "markdown",
   "metadata": {},
   "source": [
    "#### Example 9:"
   ]
  },
  {
   "cell_type": "code",
   "execution_count": 12,
   "metadata": {
    "scrolled": true
   },
   "outputs": [
    {
     "name": "stdout",
     "output_type": "stream",
     "text": [
      "21.228911104120876\n"
     ]
    }
   ],
   "source": [
    "print(np.std(height))"
   ]
  },
  {
   "cell_type": "markdown",
   "metadata": {},
   "source": [
    "#### Example 10:"
   ]
  },
  {
   "cell_type": "code",
   "execution_count": 13,
   "metadata": {},
   "outputs": [
    {
     "name": "stdout",
     "output_type": "stream",
     "text": [
      "Input Array is \n",
      " [[ 2  1 14]\n",
      " [ 6  0  9]\n",
      " [15  0  5]]\n",
      "Standard Deviation of the Array is  5.452375176171243\n"
     ]
    }
   ],
   "source": [
    "a =  np.random.randint(16, size=(3, 3))\n",
    "print(\"Input Array is \\n\", a)\n",
    "\n",
    "print(\"Standard Deviation of the Array is \", np.std(a))"
   ]
  },
  {
   "cell_type": "markdown",
   "metadata": {},
   "source": [
    "### 6. Variance\n",
    "Variance is the average of squared deviations, i.e., mean(abs(x - x.mean())**2). In other words, the standard deviation is the square root of variance."
   ]
  },
  {
   "cell_type": "markdown",
   "metadata": {},
   "source": [
    "#### Example 11:"
   ]
  },
  {
   "cell_type": "code",
   "execution_count": 14,
   "metadata": {
    "scrolled": true
   },
   "outputs": [
    {
     "name": "stdout",
     "output_type": "stream",
     "text": [
      "450.6666666666667\n"
     ]
    }
   ],
   "source": [
    "print(np.var(height))"
   ]
  },
  {
   "cell_type": "markdown",
   "metadata": {},
   "source": [
    "#### Example 12:"
   ]
  },
  {
   "cell_type": "code",
   "execution_count": 15,
   "metadata": {},
   "outputs": [
    {
     "name": "stdout",
     "output_type": "stream",
     "text": [
      "Input Array is \n",
      " [[ 1  3  5]\n",
      " [10  8 15]\n",
      " [ 0  9 12]]\n",
      "Variance of the Array is  23.11111111111111\n"
     ]
    }
   ],
   "source": [
    "a =  np.random.randint(16, size=(3, 3))\n",
    "print(\"Input Array is \\n\", a)\n",
    "\n",
    "print(\"Variance of the Array is \", np.var(a))"
   ]
  },
  {
   "cell_type": "markdown",
   "metadata": {},
   "source": [
    "### 7. average()\n",
    "The average() function computes the weighted average of elements in an array according to their respective weight given in another array. The function can have an axis parameter. If the axis is not specified, the array is flattened.\n",
    "\n",
    "Considering an array [5,10,15]  and corresponding weights [1,2,3], the weighted average is calculated by adding the product of the corresponding elements and dividing the sum by the sum of weights.\n",
    "\n",
    "Weighted average = (5*1+10*2+15*3)/(1+2+3) = 70/6 = 11.6666666"
   ]
  },
  {
   "cell_type": "markdown",
   "metadata": {},
   "source": [
    "#### Example 13:"
   ]
  },
  {
   "cell_type": "code",
   "execution_count": 16,
   "metadata": {
    "scrolled": false
   },
   "outputs": [
    {
     "name": "stdout",
     "output_type": "stream",
     "text": [
      "Input Array \n",
      " [ 5 10 15]\n",
      "Average of the array  10.0\n"
     ]
    }
   ],
   "source": [
    "a = np.array([5,10,15])\n",
    "\n",
    "print(\"Input Array \\n\", a)\n",
    "\n",
    "#Average - # this is same as mean when weight is not specified \n",
    "print(\"Average of the array \", np.average(a))"
   ]
  },
  {
   "cell_type": "markdown",
   "metadata": {},
   "source": [
    "#### Example 14:"
   ]
  },
  {
   "cell_type": "code",
   "execution_count": 17,
   "metadata": {},
   "outputs": [
    {
     "name": "stdout",
     "output_type": "stream",
     "text": [
      "Average of the array by considering the weight  11.666666666666666\n"
     ]
    }
   ],
   "source": [
    "# If the weight is specified \n",
    "wt = np.array([1,2,3]) \n",
    "\n",
    "print(\"Average of the array by considering the weight \", np.average(a,weights=wt))"
   ]
  },
  {
   "cell_type": "code",
   "execution_count": 18,
   "metadata": {},
   "outputs": [
    {
     "name": "stdout",
     "output_type": "stream",
     "text": [
      "(11.666666666666666, 6.0)\n"
     ]
    }
   ],
   "source": [
    "# To display the sum of weights in the result\n",
    "print(np.average(a,weights = wt, returned = True))"
   ]
  }
 ],
 "metadata": {
  "kernelspec": {
   "display_name": "Python 3",
   "language": "python",
   "name": "python3"
  },
  "language_info": {
   "codemirror_mode": {
    "name": "ipython",
    "version": 3
   },
   "file_extension": ".py",
   "mimetype": "text/x-python",
   "name": "python",
   "nbconvert_exporter": "python",
   "pygments_lexer": "ipython3",
   "version": "3.7.4"
  }
 },
 "nbformat": 4,
 "nbformat_minor": 2
}
