{
 "cells": [
  {
   "cell_type": "markdown",
   "metadata": {},
   "source": [
    "# 1. Array Creation using Ones and Zeros"
   ]
  },
  {
   "cell_type": "markdown",
   "metadata": {},
   "source": [
    "## 1. numpy.empty\n",
    "\n",
    "Return a new array of given shape and type, without initializing entries.\n",
    "\n",
    "Note: It requires the user to manually set all the values in the array, and should be used with caution."
   ]
  },
  {
   "cell_type": "markdown",
   "metadata": {},
   "source": [
    "### Example 1:"
   ]
  },
  {
   "cell_type": "code",
   "execution_count": 1,
   "metadata": {},
   "outputs": [
    {
     "data": {
      "text/plain": [
       "array([[1.33511562e-306, 1.69121775e-306],\n",
       "       [9.34611827e-307, 9.34601641e-307]])"
      ]
     },
     "execution_count": 1,
     "metadata": {},
     "output_type": "execute_result"
    }
   ],
   "source": [
    "#Code to create empty array\n",
    "import numpy as np\n",
    "np.empty([2, 2])"
   ]
  },
  {
   "cell_type": "markdown",
   "metadata": {},
   "source": [
    "## 2. numpy.zeros\n",
    "Return a new array of given shape and type, filled with zeros."
   ]
  },
  {
   "cell_type": "markdown",
   "metadata": {},
   "source": [
    "### Example 1:"
   ]
  },
  {
   "cell_type": "code",
   "execution_count": 2,
   "metadata": {},
   "outputs": [
    {
     "name": "stdout",
     "output_type": "stream",
     "text": [
      "[0. 0. 0.]\n"
     ]
    }
   ],
   "source": [
    "# Array of three zeros. Default dtype is float \n",
    "import numpy as np\n",
    "a = np.zeros(3) \n",
    "print(a)"
   ]
  },
  {
   "cell_type": "markdown",
   "metadata": {},
   "source": [
    "### Example 2:"
   ]
  },
  {
   "cell_type": "code",
   "execution_count": 3,
   "metadata": {},
   "outputs": [
    {
     "name": "stdout",
     "output_type": "stream",
     "text": [
      "[[0. 0. 0.]\n",
      " [0. 0. 0.]\n",
      " [0. 0. 0.]]\n"
     ]
    }
   ],
   "source": [
    "# Array of zeros in 3*3 shape. Default dtype is float \n",
    "import numpy as np\n",
    "b = np.zeros((3, 3))\n",
    "print(b)"
   ]
  },
  {
   "cell_type": "markdown",
   "metadata": {},
   "source": [
    "## 3. numpy.ones\n",
    "Return a new array of given shape and type, filled with ones."
   ]
  },
  {
   "cell_type": "markdown",
   "metadata": {},
   "source": [
    "### Example 1:"
   ]
  },
  {
   "cell_type": "code",
   "execution_count": 4,
   "metadata": {},
   "outputs": [
    {
     "name": "stdout",
     "output_type": "stream",
     "text": [
      "[1. 1. 1.]\n"
     ]
    }
   ],
   "source": [
    "#Code to create array with ones as per shape\n",
    "import numpy as np\n",
    "a = np.ones(3) \n",
    "print(a)"
   ]
  },
  {
   "cell_type": "markdown",
   "metadata": {},
   "source": [
    "### Example 2:"
   ]
  },
  {
   "cell_type": "code",
   "execution_count": 5,
   "metadata": {},
   "outputs": [
    {
     "name": "stdout",
     "output_type": "stream",
     "text": [
      "[[1. 1. 1.]\n",
      " [1. 1. 1.]\n",
      " [1. 1. 1.]]\n"
     ]
    }
   ],
   "source": [
    "#Code to create array with ones as per 3*3 shape\n",
    "import numpy as np\n",
    "b = np.ones((3, 3))\n",
    "print(b)"
   ]
  },
  {
   "cell_type": "markdown",
   "metadata": {},
   "source": [
    "## 4. numpy.eye\n",
    "Return a 2-D array with ones on the diagonal and zeros elsewhere. It is also called as Diagonal matrix."
   ]
  },
  {
   "cell_type": "markdown",
   "metadata": {},
   "source": [
    "### Example 1:"
   ]
  },
  {
   "cell_type": "code",
   "execution_count": 6,
   "metadata": {},
   "outputs": [
    {
     "name": "stdout",
     "output_type": "stream",
     "text": [
      "[[1. 0.]\n",
      " [0. 1.]]\n"
     ]
    }
   ],
   "source": [
    "import numpy as np\n",
    "a = np.eye(2) \n",
    "print(a)\n"
   ]
  },
  {
   "cell_type": "markdown",
   "metadata": {},
   "source": [
    "### Example 2:"
   ]
  },
  {
   "cell_type": "code",
   "execution_count": 7,
   "metadata": {},
   "outputs": [
    {
     "name": "stdout",
     "output_type": "stream",
     "text": [
      "[[1. 0.]\n",
      " [0. 1.]]\n"
     ]
    }
   ],
   "source": [
    "import numpy as np\n",
    "a = np.eye(2) \n",
    "print(a)\n"
   ]
  },
  {
   "cell_type": "markdown",
   "metadata": {},
   "source": [
    "## 5. numpy.full\n",
    "Return a new array of given shape and type, filled with fill_value."
   ]
  },
  {
   "cell_type": "markdown",
   "metadata": {},
   "source": [
    "### Example 1:"
   ]
  },
  {
   "cell_type": "code",
   "execution_count": 8,
   "metadata": {},
   "outputs": [
    {
     "name": "stdout",
     "output_type": "stream",
     "text": [
      "[[5 5 5 5]\n",
      " [5 5 5 5]]\n"
     ]
    }
   ],
   "source": [
    "#Code to create array as per mentioned shape and value\n",
    "import numpy as np\n",
    "a = np.full((2, 4), 5)\n",
    "print(a)"
   ]
  },
  {
   "cell_type": "markdown",
   "metadata": {},
   "source": [
    "### Example 2:"
   ]
  },
  {
   "cell_type": "code",
   "execution_count": 9,
   "metadata": {},
   "outputs": [
    {
     "name": "stdout",
     "output_type": "stream",
     "text": [
      "[[10 10]\n",
      " [10 10]\n",
      " [10 10]]\n"
     ]
    }
   ],
   "source": [
    "#Code to create array as per mentioned shape and value\n",
    "import numpy as np\n",
    "b = np.full((3, 2), 10)\n",
    "print(b)"
   ]
  },
  {
   "cell_type": "markdown",
   "metadata": {},
   "source": [
    "# 2. Array Creation using Numerical Range"
   ]
  },
  {
   "cell_type": "markdown",
   "metadata": {},
   "source": [
    "## 1. numpy.arange\n",
    "This function returns an ndarray object containing evenly spaced values within a given range.\n",
    "\n",
    "<b>Syntax: \n",
    "\n",
    "numpy.arange(start, stop, step, dtype)</b>\n",
    "\n",
    "* start - The start of an interval. If omitted, defaults to 0\n",
    "* stop  - The end of an interval (not including this number)\n",
    "* step  - Spacing between values, default is 1\n",
    "* dtype - Data type of resulting ndarray. If not given, data type of input is used    "
   ]
  },
  {
   "cell_type": "markdown",
   "metadata": {},
   "source": [
    "### Example 1:"
   ]
  },
  {
   "cell_type": "code",
   "execution_count": 10,
   "metadata": {},
   "outputs": [
    {
     "name": "stdout",
     "output_type": "stream",
     "text": [
      "[0 1 2 3 4]\n"
     ]
    }
   ],
   "source": [
    "# Starts from 0 to n-1\n",
    "import numpy as np\n",
    "num = np.arange(5) \n",
    "print(num)"
   ]
  },
  {
   "cell_type": "markdown",
   "metadata": {},
   "source": [
    "### Example 2:"
   ]
  },
  {
   "cell_type": "code",
   "execution_count": 11,
   "metadata": {},
   "outputs": [
    {
     "name": "stdout",
     "output_type": "stream",
     "text": [
      "[10 12 14 16 18 20 22 24 26 28]\n"
     ]
    }
   ],
   "source": [
    "#start, end (exclusive), step\n",
    "import numpy as np\n",
    "num2 = np.arange(10, 30, 2) \n",
    "print(num2)"
   ]
  },
  {
   "cell_type": "markdown",
   "metadata": {},
   "source": [
    "### Example 3:"
   ]
  },
  {
   "cell_type": "code",
   "execution_count": 12,
   "metadata": {},
   "outputs": [
    {
     "name": "stdout",
     "output_type": "stream",
     "text": [
      "[0. 1. 2. 3. 4.]\n"
     ]
    }
   ],
   "source": [
    "# Output in float format\n",
    "import numpy as np\n",
    "num3 = np.arange(5, dtype = float)\n",
    "print(num3)"
   ]
  },
  {
   "cell_type": "markdown",
   "metadata": {},
   "source": [
    "### Example 4:"
   ]
  },
  {
   "cell_type": "code",
   "execution_count": 13,
   "metadata": {},
   "outputs": [
    {
     "name": "stdout",
     "output_type": "stream",
     "text": [
      "[10. 12. 14. 16. 18. 20. 22. 24. 26. 28.]\n"
     ]
    }
   ],
   "source": [
    "#start, end (exclusive), step , dtype\n",
    "import numpy as np\n",
    "num4 = np.arange(10, 30, 2, dtype = float)\n",
    "print(num4)"
   ]
  },
  {
   "cell_type": "markdown",
   "metadata": {},
   "source": [
    "## 2. numpy.linspace\n",
    "This function is similar to arange() function. In this function, instead of step size, the number of evenly spaced values between the interval is specified.\n",
    "\n",
    "<b>Syntax: \n",
    "    \n",
    "numpy.linspace(start, stop, num, endpoint, retstep, dtype)</b>\n",
    "\n",
    "* start - The starting value of the sequence\n",
    "* stop  - The end value of the sequence, included in the sequence if endpoint set to true\n",
    "* num   - The number of evenly spaced samples to be generated. Default is 50\n",
    "* endpoint  - If true, stop is the last value in the range\n",
    "* retstep - If true, returns samples and step between the consecutive numbers\n",
    "* dtype - Data type of output ndarray\n"
   ]
  },
  {
   "cell_type": "markdown",
   "metadata": {},
   "source": [
    "### Example 1:"
   ]
  },
  {
   "cell_type": "code",
   "execution_count": 14,
   "metadata": {},
   "outputs": [
    {
     "name": "stdout",
     "output_type": "stream",
     "text": [
      "[10. 15. 20. 25. 30.]\n"
     ]
    }
   ],
   "source": [
    "#start, end, number of points\n",
    "import numpy as np\n",
    "a = np.linspace(10, 30, 5) \n",
    "print(a)\n"
   ]
  },
  {
   "cell_type": "markdown",
   "metadata": {},
   "source": [
    "### Example 2:"
   ]
  },
  {
   "cell_type": "code",
   "execution_count": 15,
   "metadata": {},
   "outputs": [
    {
     "name": "stdout",
     "output_type": "stream",
     "text": [
      "[10.         10.40816327 10.81632653 11.2244898  11.63265306 12.04081633\n",
      " 12.44897959 12.85714286 13.26530612 13.67346939 14.08163265 14.48979592\n",
      " 14.89795918 15.30612245 15.71428571 16.12244898 16.53061224 16.93877551\n",
      " 17.34693878 17.75510204 18.16326531 18.57142857 18.97959184 19.3877551\n",
      " 19.79591837 20.20408163 20.6122449  21.02040816 21.42857143 21.83673469\n",
      " 22.24489796 22.65306122 23.06122449 23.46938776 23.87755102 24.28571429\n",
      " 24.69387755 25.10204082 25.51020408 25.91836735 26.32653061 26.73469388\n",
      " 27.14285714 27.55102041 27.95918367 28.36734694 28.7755102  29.18367347\n",
      " 29.59183673 30.        ]\n"
     ]
    }
   ],
   "source": [
    "#start, end - It will split into 50 parts\n",
    "import numpy as np\n",
    "b = np.linspace(10, 30) \n",
    "print(b)\n"
   ]
  },
  {
   "cell_type": "markdown",
   "metadata": {},
   "source": [
    "### Example 3:"
   ]
  },
  {
   "cell_type": "code",
   "execution_count": 16,
   "metadata": {},
   "outputs": [
    {
     "name": "stdout",
     "output_type": "stream",
     "text": [
      "(array([0.  , 0.25, 0.5 , 0.75, 1.  ]), 0.25)\n"
     ]
    }
   ],
   "source": [
    "# start, stop, num, endpoint, retstep, dtype as Integer\n",
    "import numpy as np\n",
    "c = np.linspace(0, 1, 5, retstep = True) \n",
    "print(c)\n"
   ]
  },
  {
   "cell_type": "markdown",
   "metadata": {},
   "source": [
    "## 3. numpy.logspace\n",
    "This function returns an ndarray object that contains the numbers that are evenly spaced on a log scale.\n",
    "\n",
    "<b>Syntax: \n",
    "    \n",
    "numpy.logspace(start, stop, num, endpoint, base, dtype)</b>\n",
    "\n",
    "* start - The starting value of the sequence\n",
    "* stop  - The end value of the sequence, included in the sequence if endpoint set to true\n",
    "* num   - The number of evenly spaced samples to be generated. Default is 50\n",
    "* endpoint  - If true, stop is the last value in the range\n",
    "* base - Base of log space, default is 10\n",
    "* dtype - Data type of output ndarray"
   ]
  },
  {
   "cell_type": "markdown",
   "metadata": {},
   "source": [
    "### Example 1:"
   ]
  },
  {
   "cell_type": "code",
   "execution_count": 17,
   "metadata": {},
   "outputs": [
    {
     "name": "stdout",
     "output_type": "stream",
     "text": [
      "[ 10.          17.7827941   31.6227766   56.23413252 100.        ]\n"
     ]
    }
   ],
   "source": [
    "# Default base is 10 \n",
    "import numpy as np \n",
    "a = np.logspace(1, 2, 5) \n",
    "print(a)"
   ]
  },
  {
   "cell_type": "markdown",
   "metadata": {},
   "source": [
    "### Example 2:"
   ]
  },
  {
   "cell_type": "code",
   "execution_count": 18,
   "metadata": {},
   "outputs": [
    {
     "name": "stdout",
     "output_type": "stream",
     "text": [
      "[ 5.          7.47674391 11.18033989 16.71850762 25.        ]\n"
     ]
    }
   ],
   "source": [
    "# Base of log space to 5 \n",
    "import numpy as np \n",
    "a = np.logspace(1, 2, 5, base = 5) \n",
    "print(a)"
   ]
  },
  {
   "cell_type": "markdown",
   "metadata": {},
   "source": [
    "# 3. Array Creation using Existing Data"
   ]
  },
  {
   "cell_type": "markdown",
   "metadata": {},
   "source": [
    "## 1. numpy.asarray\n",
    "It Convert the input to an array. It is useful for converting Python sequence into ndarray.\n",
    "\n",
    "<b>Syntax: \n",
    "    \n",
    "numpy.asarray(a, dtype = None, order = None)</b>\n",
    "\n",
    "Where,\n",
    "* a -  Input data, in any form that can be converted to an array. This includes lists,\n",
    "     lists of tuples, tuples, tuples of tuples, tuples of lists and ndarrays.\n",
    "* dtype  - By default, the data-type is inferred from the input data.\n",
    "* order - C (row major) or F (column major). C is default  "
   ]
  },
  {
   "cell_type": "markdown",
   "metadata": {},
   "source": [
    "### Example 1:"
   ]
  },
  {
   "cell_type": "code",
   "execution_count": 19,
   "metadata": {},
   "outputs": [
    {
     "name": "stdout",
     "output_type": "stream",
     "text": [
      "[1 2 3 4 5]\n"
     ]
    }
   ],
   "source": [
    "# convert list to ndarray \n",
    "import numpy as np \n",
    "\n",
    "lst = [1,2,3,4,5] \n",
    "print(np.asarray(lst))"
   ]
  },
  {
   "cell_type": "markdown",
   "metadata": {},
   "source": [
    "### Example 2:"
   ]
  },
  {
   "cell_type": "code",
   "execution_count": 20,
   "metadata": {},
   "outputs": [
    {
     "name": "stdout",
     "output_type": "stream",
     "text": [
      "[1 2 3 4 5]\n"
     ]
    }
   ],
   "source": [
    "# convert tuple to ndarray\n",
    "import numpy as np \n",
    "\n",
    "tple = (1,2,3,4,5) \n",
    "print(np.asarray(tple))"
   ]
  },
  {
   "cell_type": "markdown",
   "metadata": {},
   "source": [
    "### Example 3:"
   ]
  },
  {
   "cell_type": "code",
   "execution_count": 21,
   "metadata": {},
   "outputs": [
    {
     "name": "stdout",
     "output_type": "stream",
     "text": [
      "[[1 2 3]\n",
      " [4 5 6]]\n"
     ]
    }
   ],
   "source": [
    "# ndarray from list of tuples \n",
    "import numpy as np \n",
    "\n",
    "x = [(1,2,3),(4,5,6)] \n",
    "print(np.asarray(x))"
   ]
  },
  {
   "cell_type": "markdown",
   "metadata": {},
   "source": [
    "### Example 4:"
   ]
  },
  {
   "cell_type": "code",
   "execution_count": 22,
   "metadata": {},
   "outputs": [
    {
     "name": "stdout",
     "output_type": "stream",
     "text": [
      "[[1. 2. 3.]\n",
      " [4. 5. 6.]]\n"
     ]
    }
   ],
   "source": [
    "# dtype is set as float\n",
    "import numpy as np \n",
    "\n",
    "x = [(1,2,3),(4,5,6)] \n",
    "print(np.asarray(x, dtype = float))"
   ]
  },
  {
   "cell_type": "markdown",
   "metadata": {},
   "source": [
    "## 2. numpy.copy\n",
    "Return an array copy of the given object.\n",
    "\n",
    "<b>Syntax:\n",
    "    \n",
    "numpy.copy(a)</b>\n",
    "\n",
    "Where,\n",
    "* a - Input data"
   ]
  },
  {
   "cell_type": "markdown",
   "metadata": {},
   "source": [
    "### Example 1:"
   ]
  },
  {
   "cell_type": "code",
   "execution_count": 23,
   "metadata": {},
   "outputs": [
    {
     "name": "stdout",
     "output_type": "stream",
     "text": [
      "Original Array [1 2 3 4 5]\n",
      "Copy of an Array [1 2 3 4 5]\n"
     ]
    }
   ],
   "source": [
    "#Create an array a and copy to b:\n",
    "import numpy as np \n",
    "\n",
    "a = np.array([1, 2, 3, 4, 5])\n",
    "b = np.copy(a)\n",
    "\n",
    "print(\"Original Array\",a)\n",
    "print(\"Copy of an Array\",b)"
   ]
  },
  {
   "cell_type": "markdown",
   "metadata": {},
   "source": [
    "## 3. numpy.frombuffer\n",
    "Interpret a buffer as a 1-dimensional array.\n",
    "\n",
    "<b>Syntax: \n",
    "    \n",
    "numpy.frombuffer(buffer, dtype=float, count=-1, offset=0)</b>\n",
    "\n",
    "Where,\n",
    "* buffer - An object that exposes the buffer interface.\n",
    "* dtype  - Data-type of the returned array; default: float.\n",
    "* count  - Number of items to read. -1 means all data in the buffer\n",
    "* offset - Start re.ding the buffer from this offset (in bytes); default: 0."
   ]
  },
  {
   "cell_type": "markdown",
   "metadata": {},
   "source": [
    "### Example 1:"
   ]
  },
  {
   "cell_type": "code",
   "execution_count": 24,
   "metadata": {},
   "outputs": [
    {
     "name": "stdout",
     "output_type": "stream",
     "text": [
      "[b'H' b'e' b'l' b'l' b'o']\n"
     ]
    }
   ],
   "source": [
    "import numpy as np \n",
    "s =  b'Hello' \n",
    "print(np.frombuffer(s, dtype = 'S1'))"
   ]
  },
  {
   "cell_type": "markdown",
   "metadata": {},
   "source": [
    "## 4. numpy.fromiter\n",
    "Create a new 1-dimensional array from an iterable object.\n",
    "\n",
    "<b>Syntax:\n",
    "    \n",
    "numpy.fromiter(iterable, dtype, count=-1)</b>\n",
    "\n",
    "Where,\n",
    "* iterable - An iterable object providing data for the array.\n",
    "* dtype - The data-type of the returned array.\n",
    "* count - The number of items to read from iterable. The default is -1, which means all data is read"
   ]
  },
  {
   "cell_type": "markdown",
   "metadata": {},
   "source": [
    "### Example 1:"
   ]
  },
  {
   "cell_type": "code",
   "execution_count": 25,
   "metadata": {},
   "outputs": [
    {
     "name": "stdout",
     "output_type": "stream",
     "text": [
      "[0 1 2 3 4 5 6 7 8 9]\n"
     ]
    }
   ],
   "source": [
    "# code to create array using list \n",
    "import numpy as np \n",
    "\n",
    "iterable = (range(10))\n",
    "print(np.fromiter(iterable, int))"
   ]
  },
  {
   "cell_type": "markdown",
   "metadata": {},
   "source": [
    "### Example 2:"
   ]
  },
  {
   "cell_type": "code",
   "execution_count": 26,
   "metadata": {},
   "outputs": [
    {
     "name": "stdout",
     "output_type": "stream",
     "text": [
      "[ 0.  1.  4.  9. 16. 25. 36. 49. 64. 81.]\n"
     ]
    }
   ],
   "source": [
    "# code to create array for square of mentioned range\n",
    "import numpy as np \n",
    "\n",
    "iterable = (x*x for x in range(10))\n",
    "print(np.fromiter(iterable, float))"
   ]
  },
  {
   "cell_type": "markdown",
   "metadata": {},
   "source": [
    "## 5. numpy.fromstring\n",
    "A new 1-D array initialized from text data in a string\n",
    "\n",
    "<b>Syntax:\n",
    "    \n",
    "numpy.fromstring(string, dtype=float, count=-1, sep='')</b>\n",
    "\n",
    "Where,\n",
    "* string  - A string containing the data\n",
    "* dtype   - The data type of the array; default: float\n",
    "* count   - Read this number of dtype elements from the data. If this is negative (the default), the count will be determined from the length of the data.\n",
    "* sep     - The string separating numbers in the data; extra whitespace between elements is also ignored"
   ]
  },
  {
   "cell_type": "markdown",
   "metadata": {},
   "source": [
    "### Example 1:"
   ]
  },
  {
   "cell_type": "code",
   "execution_count": 27,
   "metadata": {},
   "outputs": [
    {
     "name": "stdout",
     "output_type": "stream",
     "text": [
      "[1 2 3 4 5]\n"
     ]
    }
   ],
   "source": [
    "# Code to create array from string \n",
    "import numpy as np \n",
    "strVal =  '1 2 3 4 5'\n",
    "print(np.fromstring(strVal, dtype=int, sep=' '))"
   ]
  },
  {
   "cell_type": "markdown",
   "metadata": {},
   "source": [
    "### Example 2:"
   ]
  },
  {
   "cell_type": "code",
   "execution_count": 28,
   "metadata": {},
   "outputs": [
    {
     "name": "stdout",
     "output_type": "stream",
     "text": [
      "[1234 2343 3223]\n"
     ]
    }
   ],
   "source": [
    "# Code to create array from string \n",
    "import numpy as np \n",
    "strVal =  '1234 2343 3223'\n",
    "print(np.fromstring(strVal, dtype=int, sep=' '))"
   ]
  }
 ],
 "metadata": {
  "kernelspec": {
   "display_name": "Python 3",
   "language": "python",
   "name": "python3"
  },
  "language_info": {
   "codemirror_mode": {
    "name": "ipython",
    "version": 3
   },
   "file_extension": ".py",
   "mimetype": "text/x-python",
   "name": "python",
   "nbconvert_exporter": "python",
   "pygments_lexer": "ipython3",
   "version": "3.7.4"
  }
 },
 "nbformat": 4,
 "nbformat_minor": 2
}
