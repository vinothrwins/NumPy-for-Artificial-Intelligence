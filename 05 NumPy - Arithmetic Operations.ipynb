{
 "cells": [
  {
   "cell_type": "markdown",
   "metadata": {},
   "source": [
    "# NumPy - Arithmetic Operations"
   ]
  },
  {
   "cell_type": "markdown",
   "metadata": {},
   "source": [
    "## Matrix Operation with Scalar"
   ]
  },
  {
   "cell_type": "code",
   "execution_count": 1,
   "metadata": {},
   "outputs": [
    {
     "name": "stdout",
     "output_type": "stream",
     "text": [
      "Matrix is created\n",
      " [[10 20 30]\n",
      " [ 5 15 25]\n",
      " [ 0  5 10]]\n"
     ]
    }
   ],
   "source": [
    "import numpy as np\n",
    "\n",
    "# Creating 3*3 matrix\n",
    "m1 = np.array([[10,20,30],[5,15,25],[0,5,10]])\n",
    "print(\"Matrix is created\\n\",m1)"
   ]
  },
  {
   "cell_type": "markdown",
   "metadata": {},
   "source": [
    "### 1 . Scalar Addition"
   ]
  },
  {
   "cell_type": "code",
   "execution_count": 2,
   "metadata": {},
   "outputs": [
    {
     "name": "stdout",
     "output_type": "stream",
     "text": [
      "Matrix is created\n",
      " [[10 20 30]\n",
      " [ 5 15 25]\n",
      " [ 0  5 10]]\n",
      "Scalar Addition \n",
      " [[20 30 40]\n",
      " [15 25 35]\n",
      " [10 15 20]]\n"
     ]
    }
   ],
   "source": [
    "a = 10 \n",
    "print(\"Matrix is created\\n\",m1)\n",
    "print(\"Scalar Addition \\n\", m1 + a)"
   ]
  },
  {
   "cell_type": "markdown",
   "metadata": {},
   "source": [
    "### 2. Scalar Subtraction"
   ]
  },
  {
   "cell_type": "code",
   "execution_count": 3,
   "metadata": {},
   "outputs": [
    {
     "name": "stdout",
     "output_type": "stream",
     "text": [
      "Matrix is created\n",
      " [[10 20 30]\n",
      " [ 5 15 25]\n",
      " [ 0  5 10]]\n",
      "Scalar Subtraction \n",
      " [[  0  10  20]\n",
      " [ -5   5  15]\n",
      " [-10  -5   0]]\n"
     ]
    }
   ],
   "source": [
    "a = 10 \n",
    "print(\"Matrix is created\\n\",m1)\n",
    "print(\"Scalar Subtraction \\n\", m1 - a)"
   ]
  },
  {
   "cell_type": "markdown",
   "metadata": {},
   "source": [
    "### 3. Scalar Division"
   ]
  },
  {
   "cell_type": "code",
   "execution_count": 4,
   "metadata": {},
   "outputs": [
    {
     "name": "stdout",
     "output_type": "stream",
     "text": [
      "Matrix is created\n",
      " [[10 20 30]\n",
      " [ 5 15 25]\n",
      " [ 0  5 10]]\n",
      "Scalar Division \n",
      " [[ 3.33333333  6.66666667 10.        ]\n",
      " [ 1.66666667  5.          8.33333333]\n",
      " [ 0.          1.66666667  3.33333333]]\n"
     ]
    }
   ],
   "source": [
    "a = 3\n",
    "print(\"Matrix is created\\n\",m1)\n",
    "print(\"Scalar Division \\n\", m1/a)"
   ]
  },
  {
   "cell_type": "markdown",
   "metadata": {},
   "source": [
    "### 4. Scalar Multiplication"
   ]
  },
  {
   "cell_type": "code",
   "execution_count": 5,
   "metadata": {},
   "outputs": [
    {
     "name": "stdout",
     "output_type": "stream",
     "text": [
      "Matrix is created\n",
      " [[10 20 30]\n",
      " [ 5 15 25]\n",
      " [ 0  5 10]]\n",
      "Scalar Multiplication \n",
      " [[100 200 300]\n",
      " [ 50 150 250]\n",
      " [  0  50 100]]\n"
     ]
    }
   ],
   "source": [
    "a = 10\n",
    "print(\"Matrix is created\\n\",m1)\n",
    "print(\"Scalar Multiplication \\n\", m1*a)"
   ]
  },
  {
   "cell_type": "markdown",
   "metadata": {},
   "source": [
    "### Element wise operations\n",
    "\n",
    "<b>Rule:\n",
    "* For matrix addition, subtraction, multiplication and division, both the matrix must be in same dimension (i.e) Same number of rows and columns</b>\n",
    "    \n",
    "### 1. Matrix Addition"
   ]
  },
  {
   "cell_type": "code",
   "execution_count": 6,
   "metadata": {},
   "outputs": [],
   "source": [
    "import numpy as np\n",
    "m1 = np.array([[10,20,30],[25,50,100],[20,40,60]])\n",
    "m2 = np.array([[5,10,15],[1,50,100],[25,50,75]])"
   ]
  },
  {
   "cell_type": "code",
   "execution_count": 7,
   "metadata": {
    "scrolled": true
   },
   "outputs": [
    {
     "name": "stdout",
     "output_type": "stream",
     "text": [
      "First Matrix is\n",
      " [[ 10  20  30]\n",
      " [ 25  50 100]\n",
      " [ 20  40  60]]\n",
      "Second Matrix is\n",
      " [[  5  10  15]\n",
      " [  1  50 100]\n",
      " [ 25  50  75]]\n"
     ]
    }
   ],
   "source": [
    "print(\"First Matrix is\\n\", m1)\n",
    "print(\"Second Matrix is\\n\", m2)"
   ]
  },
  {
   "cell_type": "code",
   "execution_count": 8,
   "metadata": {},
   "outputs": [
    {
     "name": "stdout",
     "output_type": "stream",
     "text": [
      "Addition of two matrix =\n",
      " [[ 15  30  45]\n",
      " [ 26 100 200]\n",
      " [ 45  90 135]]\n"
     ]
    }
   ],
   "source": [
    "print(\"Addition of two matrix =\\n\",m1+m2)"
   ]
  },
  {
   "cell_type": "code",
   "execution_count": 9,
   "metadata": {},
   "outputs": [
    {
     "name": "stdout",
     "output_type": "stream",
     "text": [
      "Addition of two matrix =\n",
      " [[ 15  30  45]\n",
      " [ 26 100 200]\n",
      " [ 45  90 135]]\n"
     ]
    }
   ],
   "source": [
    "print(\"Addition of two matrix =\\n\",np.add(m1,m2))"
   ]
  },
  {
   "cell_type": "markdown",
   "metadata": {},
   "source": [
    "### 2. Matrix Subtraction"
   ]
  },
  {
   "cell_type": "code",
   "execution_count": 10,
   "metadata": {},
   "outputs": [
    {
     "name": "stdout",
     "output_type": "stream",
     "text": [
      "First Matrix is\n",
      " [[ 10  20  30]\n",
      " [ 25  50 100]\n",
      " [ 20  40  60]]\n",
      "Second Matrix is\n",
      " [[  5  10  15]\n",
      " [  1  50 100]\n",
      " [ 25  50  75]]\n",
      "Subtraction of two matrix =\n",
      " [[  5  10  15]\n",
      " [ 24   0   0]\n",
      " [ -5 -10 -15]]\n"
     ]
    }
   ],
   "source": [
    "print(\"First Matrix is\\n\", m1)\n",
    "print(\"Second Matrix is\\n\", m2)\n",
    "print(\"Subtraction of two matrix =\\n\",m1-m2)"
   ]
  },
  {
   "cell_type": "code",
   "execution_count": 11,
   "metadata": {},
   "outputs": [
    {
     "name": "stdout",
     "output_type": "stream",
     "text": [
      "Subtraction of two matrix =\n",
      " [[  5  10  15]\n",
      " [ 24   0   0]\n",
      " [ -5 -10 -15]]\n"
     ]
    }
   ],
   "source": [
    "print(\"Subtraction of two matrix =\\n\",np.subtract(m1,m2))"
   ]
  },
  {
   "cell_type": "markdown",
   "metadata": {},
   "source": [
    "### 3. Matrix Division"
   ]
  },
  {
   "cell_type": "code",
   "execution_count": 12,
   "metadata": {
    "scrolled": true
   },
   "outputs": [
    {
     "name": "stdout",
     "output_type": "stream",
     "text": [
      "First Matrix is\n",
      " [[ 10  20  30]\n",
      " [ 25  50 100]\n",
      " [ 20  40  60]]\n",
      "Second Matrix is\n",
      " [[  5  10  15]\n",
      " [  1  50 100]\n",
      " [ 25  50  75]]\n",
      "Division of two matrix =\n",
      " [[ 2.   2.   2. ]\n",
      " [25.   1.   1. ]\n",
      " [ 0.8  0.8  0.8]]\n"
     ]
    }
   ],
   "source": [
    "print(\"First Matrix is\\n\", m1)\n",
    "print(\"Second Matrix is\\n\", m2)\n",
    "print(\"Division of two matrix =\\n\",m1/m2)"
   ]
  },
  {
   "cell_type": "code",
   "execution_count": 13,
   "metadata": {},
   "outputs": [
    {
     "name": "stdout",
     "output_type": "stream",
     "text": [
      "Division of two matrix =\n",
      " [[ 2.   2.   2. ]\n",
      " [25.   1.   1. ]\n",
      " [ 0.8  0.8  0.8]]\n"
     ]
    }
   ],
   "source": [
    "print(\"Division of two matrix =\\n\",np.divide(m1,m2))"
   ]
  },
  {
   "cell_type": "markdown",
   "metadata": {},
   "source": [
    "### 4. Matrix Multiplication"
   ]
  },
  {
   "cell_type": "code",
   "execution_count": 14,
   "metadata": {},
   "outputs": [
    {
     "name": "stdout",
     "output_type": "stream",
     "text": [
      "First Matrix is\n",
      " [[ 10  20  30]\n",
      " [ 25  50 100]\n",
      " [ 20  40  60]]\n",
      "Second Matrix is\n",
      " [[  5  10  15]\n",
      " [  1  50 100]\n",
      " [ 25  50  75]]\n",
      "Multiplication of two matrix =\n",
      " [[   50   200   450]\n",
      " [   25  2500 10000]\n",
      " [  500  2000  4500]]\n"
     ]
    }
   ],
   "source": [
    "print(\"First Matrix is\\n\", m1)\n",
    "print(\"Second Matrix is\\n\", m2)\n",
    "print(\"Multiplication of two matrix =\\n\",m1*m2)"
   ]
  },
  {
   "cell_type": "code",
   "execution_count": 15,
   "metadata": {},
   "outputs": [
    {
     "name": "stdout",
     "output_type": "stream",
     "text": [
      "Matrix Multiplication is \n",
      " [[   50   200   450]\n",
      " [   25  2500 10000]\n",
      " [  500  2000  4500]]\n"
     ]
    }
   ],
   "source": [
    "print(\"Matrix Multiplication is \\n\", np.multiply(m1,m2))"
   ]
  }
 ],
 "metadata": {
  "colab": {
   "name": "numerical_operations_on_array.ipynb",
   "provenance": [],
   "version": "0.3.2"
  },
  "kernelspec": {
   "display_name": "Python 3",
   "language": "python",
   "name": "python3"
  },
  "language_info": {
   "codemirror_mode": {
    "name": "ipython",
    "version": 3
   },
   "file_extension": ".py",
   "mimetype": "text/x-python",
   "name": "python",
   "nbconvert_exporter": "python",
   "pygments_lexer": "ipython3",
   "version": "3.7.4"
  }
 },
 "nbformat": 4,
 "nbformat_minor": 1
}
